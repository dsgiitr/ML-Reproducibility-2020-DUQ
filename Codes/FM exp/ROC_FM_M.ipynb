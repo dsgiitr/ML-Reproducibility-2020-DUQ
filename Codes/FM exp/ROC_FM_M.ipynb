{
  "nbformat": 4,
  "nbformat_minor": 0,
  "metadata": {
    "colab": {
      "name": "ROC_FM_M.ipynb",
      "provenance": [],
      "collapsed_sections": []
    },
    "kernelspec": {
      "name": "python3",
      "display_name": "Python 3"
    },
    "accelerator": "GPU"
  },
  "cells": [
    {
      "cell_type": "code",
      "metadata": {
        "id": "Y7OL1QBq-s4y",
        "outputId": "ba1f80da-9208-401b-f470-2b7beccfd1f5",
        "colab": {
          "base_uri": "https://localhost:8080/",
          "height": 67
        }
      },
      "source": [
        "!mkdir -p data && cd data && curl -O \"http://yaroslavvb.com/upload/notMNIST/notMNIST_small.mat\""
      ],
      "execution_count": 1,
      "outputs": [
        {
          "output_type": "stream",
          "text": [
            "  % Total    % Received % Xferd  Average Speed   Time    Time     Time  Current\n",
            "                                 Dload  Upload   Total   Spent    Left  Speed\n",
            "100  112M  100  112M    0     0  35.6M      0  0:00:03  0:00:03 --:--:-- 35.6M\n"
          ],
          "name": "stdout"
        }
      ]
    },
    {
      "cell_type": "code",
      "metadata": {
        "id": "hM66GgdYaIu7",
        "outputId": "06b24ba9-437b-4f1e-940a-4989cbd27ab8",
        "colab": {
          "base_uri": "https://localhost:8080/",
          "height": 295
        }
      },
      "source": [
        "import random\n",
        "import numpy as np\n",
        "import torch\n",
        "import torch.utils.data\n",
        "from torch.nn import functional as F\n",
        "import matplotlib.pyplot as plt\n",
        "\n",
        "from utils.evaluate_ood import get_ROC_mnist\n",
        "from utils.ensemble_eval import get_ROC_mnist_ensemble\n",
        "\n",
        "from utils.cnn_duq import CNN_DUQ\n",
        "from utils.cnn_duq import SoftmaxModel as CNN\n",
        "\n",
        "from utils.datasets import all_datasets\n",
        "\n",
        "\n",
        "\n",
        "\n",
        "if __name__ == \"__main__\":\n",
        "    input_size = 28\n",
        "    num_classes = 10\n",
        "    embedding_size = 256\n",
        "    learnable_length_scale = False\n",
        "    gamma = 0.999\n",
        "    length_scale=0.1\n",
        "    model = CNN_DUQ(\n",
        "          input_size,\n",
        "          num_classes,\n",
        "          embedding_size,\n",
        "          learnable_length_scale,\n",
        "          length_scale,\n",
        "          gamma,\n",
        "      )\n",
        "    model.load_state_dict(torch.load(\"DUQ_FM_30_FULL.pt\"))\n",
        "    model = model.cuda()\n",
        "    ensemble = [CNN(input_size, num_classes).cuda() for _ in range(5)]\n",
        "    ensemble = torch.nn.ModuleList(ensemble)\n",
        "    ensemble.load_state_dict(torch.load(\"FM_5_ensemble_30.pt\"))\n",
        "\n",
        "\n",
        "    fpr,tpr,t=get_ROC_mnist(model);\n",
        "    fpre,tpre,t=get_ROC_mnist_ensemble(ensemble)\n",
        "    plt.figure()\n",
        "    plt.plot(fpr,tpr,label='DUQ')\n",
        "    plt.plot(fpre,tpre,label='DE(5)')\n",
        "    plt.xlabel('False Positive Rate')\n",
        "    plt.ylabel('True Positive Rate')\n",
        "    plt.title('ROC on FM & M-ood')\n",
        "    plt.legend(loc=\"lower right\")\n",
        "    plt.show()\n",
        "\n",
        "            \n",
        "\n",
        "   \n"
      ],
      "execution_count": 2,
      "outputs": [
        {
          "output_type": "display_data",
          "data": {
            "image/png": "[encoded data removed]",
            "text/plain": [
              "<Figure size 432x288 with 1 Axes>"
            ]
          },
          "metadata": {
            "tags": [],
            "needs_background": "light"
          }
        }
      ]
    }
  ]
}