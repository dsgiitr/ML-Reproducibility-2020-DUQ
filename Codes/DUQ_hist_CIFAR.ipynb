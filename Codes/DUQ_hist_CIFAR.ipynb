{
  "nbformat": 4,
  "nbformat_minor": 0,
  "metadata": {
    "colab": {
      "name": "Untitled",
      "provenance": []
    },
    "kernelspec": {
      "name": "python3",
      "display_name": "Python 3"
    },
    "accelerator": "GPU"
  },
  "cells": [
    {
      "cell_type": "code",
      "metadata": {
        "id": "9xphocsGyXUa",
        "outputId": "c0e36eee-ab91-4c06-bba5-771490699d50",
        "colab": {
          "base_uri": "https://localhost:8080/",
          "height": 396
        }
      },
      "source": [
        "import torch\n",
        "from utils.datasets import all_datasets\n",
        "import matplotlib.pyplot as plt \n",
        "import numpy as np\n",
        "\n",
        "from utils.resnet_duq import ResNet_DUQ\n",
        "\n",
        "\n",
        "ds3 = all_datasets[\"CIFAR10\"]()\n",
        "input_size, num_classes, _ , test_dataset_CIFAR = ds3\n",
        "\n",
        "model_CIFAR = ResNet_DUQ(input_size, num_classes, 512 ,512 ,0.1 ,0.999)\n",
        "\n",
        "\n",
        "ds4 = all_datasets[\"SVHN\"]()\n",
        "_,_,_, test_dataset_SVHN = ds4\n",
        "\n",
        "model_CIFAR.load_state_dict(torch.load(\"content/DUQ_CIFAR_75.pt\"))\n",
        "model_CIFAR.eval()\n",
        "\n",
        "kernel_distace_CIFAR = np.zeros((int(len(test_dataset_CIFAR)/1),1))\n",
        "\n",
        "for i in range(int(len(test_dataset_CIFAR)/1)):\n",
        "  kernel_distace_CIFAR[i] = model_CIFAR(test_dataset_CIFAR[i][0].reshape(1,3,32,32))[1].max(1)[0].item()\n",
        "\n",
        "\n",
        "kernel_distace_SVHN = np.zeros((int(len(test_dataset_SVHN)/2.6),1))\n",
        "\n",
        "for i in range(int(len(test_dataset_SVHN)/2.6)):\n",
        "  kernel_distace_SVHN[i] = model_CIFAR(test_dataset_SVHN[i][0].reshape(1,3,32,32))[1].max(1)[0].item()\n",
        "  \n",
        "\n",
        "n, bins, patches = plt.hist(x=[kernel_distace_CIFAR,kernel_distace_SVHN], bins='auto', color=['#0000FF','#FF0000'],label=['CIFAR','SVHN']\n",
        "                           )\n",
        "\n",
        "plt.xlabel('Value')\n",
        "plt.ylabel('Frequency')\n",
        "plt.title('Certainity')\n",
        "maxfreq = n.max()\n",
        "print(maxfreq)\n",
        "\n",
        "plt.ylim(0,maxfreq)"
      ],
      "execution_count": 15,
      "outputs": [
        {
          "output_type": "stream",
          "text": [
            "Files already downloaded and verified\n",
            "Files already downloaded and verified\n",
            "Using downloaded and verified file: ./data/SVHN/train_32x32.mat\n",
            "Using downloaded and verified file: ./data/SVHN/test_32x32.mat\n",
            "7383.0\n"
          ],
          "name": "stdout"
        },
        {
          "output_type": "execute_result",
          "data": {
            "text/plain": [
              "(0.0, 7383.0)"
            ]
          },
          "metadata": {
            "tags": []
          },
          "execution_count": 15
        },
        {
          "output_type": "display_data",
          "data": {
            "image/png": "[encoded data removed]",
            "text/plain": [
              "<Figure size 432x288 with 1 Axes>"
            ]
          },
          "metadata": {
            "tags": [],
            "needs_background": "light"
          }
        }
      ]
    }
  ]
}